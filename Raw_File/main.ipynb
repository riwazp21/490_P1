{
 "cells": [
  {
   "cell_type": "code",
   "execution_count": 3,
   "id": "4c3fd9fd-ab0b-48c2-a23f-8185e2cdee90",
   "metadata": {},
   "outputs": [
    {
     "name": "stdout",
     "output_type": "stream",
     "text": [
      "Collecting pandas\n",
      "  Downloading pandas-2.2.1-cp39-cp39-manylinux_2_17_x86_64.manylinux2014_x86_64.whl.metadata (19 kB)\n",
      "Collecting numpy<2,>=1.22.4 (from pandas)\n",
      "  Downloading numpy-1.26.4-cp39-cp39-manylinux_2_17_x86_64.manylinux2014_x86_64.whl.metadata (61 kB)\n",
      "\u001b[2K     \u001b[90m━━━━━━━━━━━━━━━━━━━━━━━━━━━━━━━━━━━━━━━\u001b[0m \u001b[32m61.0/61.0 kB\u001b[0m \u001b[31m667.8 kB/s\u001b[0m eta \u001b[36m0:00:00\u001b[0m \u001b[36m0:00:01\u001b[0m\n",
      "\u001b[?25hRequirement already satisfied: python-dateutil>=2.8.2 in /users/rpoudel/miniconda3/envs/main/lib/python3.9/site-packages (from pandas) (2.8.2)\n",
      "Requirement already satisfied: pytz>=2020.1 in /users/rpoudel/miniconda3/envs/main/lib/python3.9/site-packages (from pandas) (2023.3.post1)\n",
      "Collecting tzdata>=2022.7 (from pandas)\n",
      "  Downloading tzdata-2024.1-py2.py3-none-any.whl.metadata (1.4 kB)\n",
      "Requirement already satisfied: six>=1.5 in /users/rpoudel/miniconda3/envs/main/lib/python3.9/site-packages (from python-dateutil>=2.8.2->pandas) (1.16.0)\n",
      "Downloading pandas-2.2.1-cp39-cp39-manylinux_2_17_x86_64.manylinux2014_x86_64.whl (13.0 MB)\n",
      "\u001b[2K   \u001b[90m━━━━━━━━━━━━━━━━━━━━━━━━━━━━━━━━━━━━━━━━\u001b[0m \u001b[32m13.0/13.0 MB\u001b[0m \u001b[31m13.7 MB/s\u001b[0m eta \u001b[36m0:00:00\u001b[0m00:01\u001b[0m00:01\u001b[0m\n",
      "\u001b[?25hDownloading numpy-1.26.4-cp39-cp39-manylinux_2_17_x86_64.manylinux2014_x86_64.whl (18.2 MB)\n",
      "\u001b[2K   \u001b[90m━━━━━━━━━━━━━━━━━━━━━━━━━━━━━━━━━━━━━━━━\u001b[0m \u001b[32m18.2/18.2 MB\u001b[0m \u001b[31m11.3 MB/s\u001b[0m eta \u001b[36m0:00:00\u001b[0m00:01\u001b[0m00:01\u001b[0m\n",
      "\u001b[?25hDownloading tzdata-2024.1-py2.py3-none-any.whl (345 kB)\n",
      "\u001b[2K   \u001b[90m━━━━━━━━━━━━━━━━━━━━━━━━━━━━━━━━━━━━━━━━\u001b[0m \u001b[32m345.4/345.4 kB\u001b[0m \u001b[31m2.7 MB/s\u001b[0m eta \u001b[36m0:00:00\u001b[0m:00:01\u001b[0m\n",
      "\u001b[?25hInstalling collected packages: tzdata, numpy, pandas\n",
      "Successfully installed numpy-1.26.4 pandas-2.2.1 tzdata-2024.1\n"
     ]
    }
   ],
   "source": [
    "!pip install pandas\n",
    "import pandas as pd\n",
    "input_file = \"ENCFF260PVK.txt\"\n",
    "with open(input_file, 'r') as file:\n",
    "    lines = file.readlines()\n"
   ]
  },
  {
   "cell_type": "code",
   "execution_count": 4,
   "id": "ec358b8e-f35a-4b92-9250-0def70891a5a",
   "metadata": {},
   "outputs": [],
   "source": [
    "odd_position = lines[::2]\n"
   ]
  },
  {
   "cell_type": "code",
   "execution_count": 5,
   "id": "0a4a6d32-f979-44a3-bc33-afe4ac83e1d4",
   "metadata": {},
   "outputs": [
    {
     "data": {
      "text/plain": [
       "78296"
      ]
     },
     "execution_count": 5,
     "metadata": {},
     "output_type": "execute_result"
    }
   ],
   "source": [
    "len(odd_position)"
   ]
  },
  {
   "cell_type": "code",
   "execution_count": 7,
   "id": "65a4bbeb-e7ac-4ce8-bb48-478e3f18344e",
   "metadata": {},
   "outputs": [],
   "source": [
    "sum = 0\n",
    "even_position = lines[1:2]\n",
    "start = 0\n",
    "#df = pd.DataFrame(columns=['Chromosome','Data'])\n",
    "for line in odd_position:\n",
    "    parts = line.split(':')\n",
    "    chromosome = parts[0]\n",
    "    #df = df.append({'Chromosome':chromosome,'Data':even_position[start]},ignore_index=True)\n",
    "    start = start + 1\n",
    "    range_parts = parts[1].split('-')\n",
    "    start_number = int(range_parts[0])\n",
    "    end_number = int(range_parts[1])\n",
    "    region = end_number - start_number\n",
    "    sum = sum + region"
   ]
  },
  {
   "cell_type": "code",
   "execution_count": 8,
   "id": "260436d2-7ed2-43cb-8322-4b3f4d117c74",
   "metadata": {},
   "outputs": [],
   "source": [
    "average = sum//len(odd_position)"
   ]
  },
  {
   "cell_type": "code",
   "execution_count": 9,
   "id": "2be2f908-0a4a-44a2-b453-8d178d226ab4",
   "metadata": {},
   "outputs": [],
   "source": [
    "even_position_element = lines[1::2]"
   ]
  },
  {
   "cell_type": "code",
   "execution_count": 30,
   "id": "67cc008a-61b5-4fd7-8d45-fcaa80b506ce",
   "metadata": {},
   "outputs": [],
   "source": [
    "chromosome_data = []\n",
    "for line in even_position_element:\n",
    "    if(average <= len(line)):\n",
    "        main_data = line[:average].lower()\n",
    "        \n",
    "        chromosome_data.append(main_data)\n",
    "        \n",
    "\n",
    "        \n",
    "        "
   ]
  },
  {
   "cell_type": "code",
   "execution_count": 31,
   "id": "058e1c97-c3ac-4b27-b871-02ba8bbb5875",
   "metadata": {},
   "outputs": [],
   "source": [
    "output_file = input_file.split('.')[0] + '.csv'"
   ]
  },
  {
   "cell_type": "code",
   "execution_count": 32,
   "id": "644e6093-e17b-4c4a-83ab-8eca2be787c7",
   "metadata": {},
   "outputs": [],
   "source": [
    "\n",
    "with open(output_file, 'w') as file:\n",
    "    file.write(\"Data\\n\")\n",
    "    for item in chromosome_data:\n",
    "        file.write(str(item) + \"\\n\")"
   ]
  },
  {
   "cell_type": "code",
   "execution_count": null,
   "id": "9bd2a333-9f50-4c14-9263-f803ce8aba6f",
   "metadata": {},
   "outputs": [],
   "source": []
  }
 ],
 "metadata": {
  "kernelspec": {
   "display_name": "Python [conda env:main] *",
   "language": "python",
   "name": "conda-env-main-py"
  },
  "language_info": {
   "codemirror_mode": {
    "name": "ipython",
    "version": 3
   },
   "file_extension": ".py",
   "mimetype": "text/x-python",
   "name": "python",
   "nbconvert_exporter": "python",
   "pygments_lexer": "ipython3",
   "version": "3.9.18"
  }
 },
 "nbformat": 4,
 "nbformat_minor": 5
}
